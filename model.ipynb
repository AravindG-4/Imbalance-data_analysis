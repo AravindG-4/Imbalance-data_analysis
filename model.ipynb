{
 "cells": [
  {
   "cell_type": "code",
   "execution_count": 313,
   "metadata": {},
   "outputs": [],
   "source": [
    "import numpy as np\n",
    "import pandas as pd\n",
    "from sklearn.ensemble import RandomForestClassifier\n",
    "import matplotlib.pyplot as plt\n",
    "import seaborn as sns\n",
    "from sklearn.model_selection import train_test_split\n",
    "from sklearn import metrics\n",
    "from sklearn.preprocessing import LabelEncoder, RobustScaler\n",
    "%matplotlib inline\n",
    "import datetime\n",
    "import holidays"
   ]
  },
  {
   "cell_type": "code",
   "execution_count": 314,
   "metadata": {},
   "outputs": [
    {
     "data": {
      "text/plain": [
       "(33441, 18)"
      ]
     },
     "execution_count": 314,
     "metadata": {},
     "output_type": "execute_result"
    }
   ],
   "source": [
    "df = pd.read_csv(\"train.csv\")\n",
    "df.shape"
   ]
  },
  {
   "cell_type": "code",
   "execution_count": 315,
   "metadata": {},
   "outputs": [
    {
     "data": {
      "text/html": [
       "<div>\n",
       "<style scoped>\n",
       "    .dataframe tbody tr th:only-of-type {\n",
       "        vertical-align: middle;\n",
       "    }\n",
       "\n",
       "    .dataframe tbody tr th {\n",
       "        vertical-align: top;\n",
       "    }\n",
       "\n",
       "    .dataframe thead th {\n",
       "        text-align: right;\n",
       "    }\n",
       "</style>\n",
       "<table border=\"1\" class=\"dataframe\">\n",
       "  <thead>\n",
       "    <tr style=\"text-align: right;\">\n",
       "      <th></th>\n",
       "      <th>_id</th>\n",
       "      <th>segment_id</th>\n",
       "      <th>date</th>\n",
       "      <th>weekday</th>\n",
       "      <th>period</th>\n",
       "      <th>LOS</th>\n",
       "      <th>s_node_id</th>\n",
       "      <th>e_node_id</th>\n",
       "      <th>length</th>\n",
       "      <th>street_id</th>\n",
       "      <th>max_velocity</th>\n",
       "      <th>street_level</th>\n",
       "      <th>street_name</th>\n",
       "      <th>street_type</th>\n",
       "      <th>long_snode</th>\n",
       "      <th>lat_snode</th>\n",
       "      <th>long_enode</th>\n",
       "      <th>lat_enode</th>\n",
       "    </tr>\n",
       "  </thead>\n",
       "  <tbody>\n",
       "    <tr>\n",
       "      <th>0</th>\n",
       "      <td>0</td>\n",
       "      <td>26</td>\n",
       "      <td>2021-04-16</td>\n",
       "      <td>4</td>\n",
       "      <td>period_0_30</td>\n",
       "      <td>A</td>\n",
       "      <td>366428456</td>\n",
       "      <td>366416066</td>\n",
       "      <td>116</td>\n",
       "      <td>32575820</td>\n",
       "      <td>NaN</td>\n",
       "      <td>4</td>\n",
       "      <td>Nguyễn Văn Bá</td>\n",
       "      <td>tertiary</td>\n",
       "      <td>106.768732</td>\n",
       "      <td>10.841506</td>\n",
       "      <td>106.769254</td>\n",
       "      <td>10.842422</td>\n",
       "    </tr>\n",
       "    <tr>\n",
       "      <th>1</th>\n",
       "      <td>1</td>\n",
       "      <td>33</td>\n",
       "      <td>2020-08-02</td>\n",
       "      <td>6</td>\n",
       "      <td>period_23_30</td>\n",
       "      <td>C</td>\n",
       "      <td>366469460</td>\n",
       "      <td>3792257828</td>\n",
       "      <td>26</td>\n",
       "      <td>32575862</td>\n",
       "      <td>NaN</td>\n",
       "      <td>3</td>\n",
       "      <td>Đường số 5</td>\n",
       "      <td>secondary</td>\n",
       "      <td>106.761957</td>\n",
       "      <td>10.878650</td>\n",
       "      <td>106.762143</td>\n",
       "      <td>10.878808</td>\n",
       "    </tr>\n",
       "    <tr>\n",
       "      <th>2</th>\n",
       "      <td>2</td>\n",
       "      <td>33</td>\n",
       "      <td>2020-08-03</td>\n",
       "      <td>0</td>\n",
       "      <td>period_0_00</td>\n",
       "      <td>D</td>\n",
       "      <td>366469460</td>\n",
       "      <td>3792257828</td>\n",
       "      <td>26</td>\n",
       "      <td>32575862</td>\n",
       "      <td>NaN</td>\n",
       "      <td>3</td>\n",
       "      <td>Đường số 5</td>\n",
       "      <td>secondary</td>\n",
       "      <td>106.761957</td>\n",
       "      <td>10.878650</td>\n",
       "      <td>106.762143</td>\n",
       "      <td>10.878808</td>\n",
       "    </tr>\n",
       "    <tr>\n",
       "      <th>3</th>\n",
       "      <td>3</td>\n",
       "      <td>67</td>\n",
       "      <td>2021-03-09</td>\n",
       "      <td>1</td>\n",
       "      <td>period_9_30</td>\n",
       "      <td>B</td>\n",
       "      <td>366403668</td>\n",
       "      <td>5755066033</td>\n",
       "      <td>7</td>\n",
       "      <td>32575862</td>\n",
       "      <td>NaN</td>\n",
       "      <td>3</td>\n",
       "      <td>Đường số 5</td>\n",
       "      <td>secondary</td>\n",
       "      <td>106.768412</td>\n",
       "      <td>10.880817</td>\n",
       "      <td>106.768461</td>\n",
       "      <td>10.880771</td>\n",
       "    </tr>\n",
       "    <tr>\n",
       "      <th>4</th>\n",
       "      <td>4</td>\n",
       "      <td>67</td>\n",
       "      <td>2021-03-23</td>\n",
       "      <td>1</td>\n",
       "      <td>period_9_30</td>\n",
       "      <td>B</td>\n",
       "      <td>366403668</td>\n",
       "      <td>5755066033</td>\n",
       "      <td>7</td>\n",
       "      <td>32575862</td>\n",
       "      <td>NaN</td>\n",
       "      <td>3</td>\n",
       "      <td>Đường số 5</td>\n",
       "      <td>secondary</td>\n",
       "      <td>106.768412</td>\n",
       "      <td>10.880817</td>\n",
       "      <td>106.768461</td>\n",
       "      <td>10.880771</td>\n",
       "    </tr>\n",
       "    <tr>\n",
       "      <th>5</th>\n",
       "      <td>5</td>\n",
       "      <td>70</td>\n",
       "      <td>2020-08-02</td>\n",
       "      <td>6</td>\n",
       "      <td>period_23_30</td>\n",
       "      <td>D</td>\n",
       "      <td>5816921541</td>\n",
       "      <td>4614188871</td>\n",
       "      <td>8</td>\n",
       "      <td>32575864</td>\n",
       "      <td>40.0</td>\n",
       "      <td>3</td>\n",
       "      <td>Châu Văn Liêm</td>\n",
       "      <td>secondary</td>\n",
       "      <td>106.659032</td>\n",
       "      <td>10.751940</td>\n",
       "      <td>106.659019</td>\n",
       "      <td>10.752017</td>\n",
       "    </tr>\n",
       "    <tr>\n",
       "      <th>6</th>\n",
       "      <td>6</td>\n",
       "      <td>70</td>\n",
       "      <td>2020-08-03</td>\n",
       "      <td>0</td>\n",
       "      <td>period_0_00</td>\n",
       "      <td>E</td>\n",
       "      <td>5816921541</td>\n",
       "      <td>4614188871</td>\n",
       "      <td>8</td>\n",
       "      <td>32575864</td>\n",
       "      <td>40.0</td>\n",
       "      <td>3</td>\n",
       "      <td>Châu Văn Liêm</td>\n",
       "      <td>secondary</td>\n",
       "      <td>106.659032</td>\n",
       "      <td>10.751940</td>\n",
       "      <td>106.659019</td>\n",
       "      <td>10.752017</td>\n",
       "    </tr>\n",
       "    <tr>\n",
       "      <th>7</th>\n",
       "      <td>7</td>\n",
       "      <td>71</td>\n",
       "      <td>2020-08-02</td>\n",
       "      <td>6</td>\n",
       "      <td>period_23_30</td>\n",
       "      <td>E</td>\n",
       "      <td>366441747</td>\n",
       "      <td>5738173336</td>\n",
       "      <td>43</td>\n",
       "      <td>32575869</td>\n",
       "      <td>NaN</td>\n",
       "      <td>4</td>\n",
       "      <td>Lê Văn Thịnh</td>\n",
       "      <td>unclassified</td>\n",
       "      <td>106.765737</td>\n",
       "      <td>10.776592</td>\n",
       "      <td>106.765964</td>\n",
       "      <td>10.776912</td>\n",
       "    </tr>\n",
       "    <tr>\n",
       "      <th>8</th>\n",
       "      <td>8</td>\n",
       "      <td>71</td>\n",
       "      <td>2020-08-03</td>\n",
       "      <td>0</td>\n",
       "      <td>period_0_00</td>\n",
       "      <td>C</td>\n",
       "      <td>366441747</td>\n",
       "      <td>5738173336</td>\n",
       "      <td>43</td>\n",
       "      <td>32575869</td>\n",
       "      <td>NaN</td>\n",
       "      <td>4</td>\n",
       "      <td>Lê Văn Thịnh</td>\n",
       "      <td>unclassified</td>\n",
       "      <td>106.765737</td>\n",
       "      <td>10.776592</td>\n",
       "      <td>106.765964</td>\n",
       "      <td>10.776912</td>\n",
       "    </tr>\n",
       "    <tr>\n",
       "      <th>9</th>\n",
       "      <td>9</td>\n",
       "      <td>161</td>\n",
       "      <td>2020-09-11</td>\n",
       "      <td>4</td>\n",
       "      <td>period_0_30</td>\n",
       "      <td>A</td>\n",
       "      <td>3202462316</td>\n",
       "      <td>3202462317</td>\n",
       "      <td>21</td>\n",
       "      <td>32575935</td>\n",
       "      <td>NaN</td>\n",
       "      <td>3</td>\n",
       "      <td>Tân Phú</td>\n",
       "      <td>primary_link</td>\n",
       "      <td>106.723620</td>\n",
       "      <td>10.733619</td>\n",
       "      <td>106.723813</td>\n",
       "      <td>10.733604</td>\n",
       "    </tr>\n",
       "  </tbody>\n",
       "</table>\n",
       "</div>"
      ],
      "text/plain": [
       "   _id  segment_id        date  weekday        period LOS   s_node_id  \\\n",
       "0    0          26  2021-04-16        4   period_0_30   A   366428456   \n",
       "1    1          33  2020-08-02        6  period_23_30   C   366469460   \n",
       "2    2          33  2020-08-03        0   period_0_00   D   366469460   \n",
       "3    3          67  2021-03-09        1   period_9_30   B   366403668   \n",
       "4    4          67  2021-03-23        1   period_9_30   B   366403668   \n",
       "5    5          70  2020-08-02        6  period_23_30   D  5816921541   \n",
       "6    6          70  2020-08-03        0   period_0_00   E  5816921541   \n",
       "7    7          71  2020-08-02        6  period_23_30   E   366441747   \n",
       "8    8          71  2020-08-03        0   period_0_00   C   366441747   \n",
       "9    9         161  2020-09-11        4   period_0_30   A  3202462316   \n",
       "\n",
       "    e_node_id  length  street_id  max_velocity  street_level    street_name  \\\n",
       "0   366416066     116   32575820           NaN             4  Nguyễn Văn Bá   \n",
       "1  3792257828      26   32575862           NaN             3     Đường số 5   \n",
       "2  3792257828      26   32575862           NaN             3     Đường số 5   \n",
       "3  5755066033       7   32575862           NaN             3     Đường số 5   \n",
       "4  5755066033       7   32575862           NaN             3     Đường số 5   \n",
       "5  4614188871       8   32575864          40.0             3  Châu Văn Liêm   \n",
       "6  4614188871       8   32575864          40.0             3  Châu Văn Liêm   \n",
       "7  5738173336      43   32575869           NaN             4   Lê Văn Thịnh   \n",
       "8  5738173336      43   32575869           NaN             4   Lê Văn Thịnh   \n",
       "9  3202462317      21   32575935           NaN             3        Tân Phú   \n",
       "\n",
       "    street_type  long_snode  lat_snode  long_enode  lat_enode  \n",
       "0      tertiary  106.768732  10.841506  106.769254  10.842422  \n",
       "1     secondary  106.761957  10.878650  106.762143  10.878808  \n",
       "2     secondary  106.761957  10.878650  106.762143  10.878808  \n",
       "3     secondary  106.768412  10.880817  106.768461  10.880771  \n",
       "4     secondary  106.768412  10.880817  106.768461  10.880771  \n",
       "5     secondary  106.659032  10.751940  106.659019  10.752017  \n",
       "6     secondary  106.659032  10.751940  106.659019  10.752017  \n",
       "7  unclassified  106.765737  10.776592  106.765964  10.776912  \n",
       "8  unclassified  106.765737  10.776592  106.765964  10.776912  \n",
       "9  primary_link  106.723620  10.733619  106.723813  10.733604  "
      ]
     },
     "execution_count": 315,
     "metadata": {},
     "output_type": "execute_result"
    }
   ],
   "source": [
    "df.head(10)"
   ]
  },
  {
   "cell_type": "code",
   "execution_count": 316,
   "metadata": {},
   "outputs": [],
   "source": [
    "drop_cols = ['_id', 'segment_id', 'date','s_node_id','e_node_id', 'street_name','street_id', 'long_enode', 'lat_enode']"
   ]
  },
  {
   "cell_type": "code",
   "execution_count": 317,
   "metadata": {},
   "outputs": [
    {
     "name": "stdout",
     "output_type": "stream",
     "text": [
      "False\n"
     ]
    }
   ],
   "source": [
    "VN_holidays = holidays.VN()\n",
    "print('01-02-2024' in VN_holidays)"
   ]
  },
  {
   "cell_type": "code",
   "execution_count": 318,
   "metadata": {},
   "outputs": [],
   "source": [
    "def holiday(date):\n",
    "    if date in VN_holidays:\n",
    "        return 1\n",
    "    else:\n",
    "        return 0\n",
    "df['holiday'] = df['date'].map(holiday)"
   ]
  },
  {
   "cell_type": "code",
   "execution_count": 319,
   "metadata": {},
   "outputs": [
    {
     "data": {
      "text/plain": [
       "holiday\n",
       "0    33337\n",
       "1      104\n",
       "Name: count, dtype: int64"
      ]
     },
     "execution_count": 319,
     "metadata": {},
     "output_type": "execute_result"
    }
   ],
   "source": [
    "df['holiday'].value_counts()"
   ]
  },
  {
   "cell_type": "code",
   "execution_count": 320,
   "metadata": {},
   "outputs": [],
   "source": [
    "df = df.drop(drop_cols, axis = 1)"
   ]
  },
  {
   "cell_type": "code",
   "execution_count": 321,
   "metadata": {},
   "outputs": [],
   "source": [
    "label = {'A':0,'B':1,'C':2, 'D':3, 'E':4, 'F':5}\n",
    "def LOS_encode(val):\n",
    "    return label[val]\n",
    "df['LOS'] = df['LOS'].map(LOS_encode)"
   ]
  },
  {
   "cell_type": "code",
   "execution_count": 322,
   "metadata": {},
   "outputs": [],
   "source": [
    "period = {'period_0_30':1, 'period_23_30':45, 'period_0_00':0, 'period_9_30':19,\n",
    "       'period_4_30':9, 'period_7_30':15, 'period_14_00':28, 'period_3_00':6,\n",
    "       'period_4_00':8, 'period_14_30':29, 'period_5_00':10, 'period_6_30':13,\n",
    "       'period_7_00':14, 'period_5_30':11, 'period_6_00':12, 'period_15_00':30,\n",
    "       'period_3_30':7, 'period_8_00':16, 'period_13_30':27, 'period_2_30':5,\n",
    "       'period_10_30':21, 'period_11_00':22, 'period_1_00':2, 'period_11_30':23,\n",
    "       'period_12_00':24, 'period_12_30':25, 'period_8_30':17, 'period_9_00':18,\n",
    "       'period_10_00':20, 'period_1_30':3, 'period_15_30':31, 'period_2_00':4,\n",
    "       'period_16_00':32, 'period_23_00':44, 'period_13_00':26, 'period_22_30':43,\n",
    "       'period_21_30':41, 'period_22_00':42, 'period_17_30':35, 'period_18_00':36,\n",
    "       'period_16_30':33, 'period_17_00':34, 'period_20_00':40, 'period_19_30':39,\n",
    "       'period_18_30':37, 'period_19_00':38}\n",
    "def per_encode(val):\n",
    "    return period[val]\n",
    "df['period'] = df['period'].map(per_encode)"
   ]
  },
  {
   "cell_type": "code",
   "execution_count": 323,
   "metadata": {},
   "outputs": [
    {
     "data": {
      "text/plain": [
       "street_type\n",
       "tertiary          13857\n",
       "primary           11233\n",
       "secondary          3460\n",
       "unclassified       2021\n",
       "trunk              1858\n",
       "primary_link        350\n",
       "trunk_link          279\n",
       "secondary_link      127\n",
       "tertiary_link        74\n",
       "residential          67\n",
       "motorway             59\n",
       "house                20\n",
       "motorway_link         9\n",
       "car                   4\n",
       "company               4\n",
       "school                4\n",
       "fuel                  4\n",
       "government            2\n",
       "marketplace           2\n",
       "bank                  1\n",
       "bus_station           1\n",
       "convenience           1\n",
       "clothes               1\n",
       "university            1\n",
       "pitch                 1\n",
       "cinema                1\n",
       "Name: count, dtype: int64"
      ]
     },
     "execution_count": 323,
     "metadata": {},
     "output_type": "execute_result"
    }
   ],
   "source": [
    "df['street_type'].value_counts()"
   ]
  },
  {
   "cell_type": "code",
   "execution_count": 324,
   "metadata": {},
   "outputs": [
    {
     "data": {
      "text/plain": [
       "array(['tertiary', 'secondary', 'unclassified', 'primary_link', 'primary',\n",
       "       'trunk', 'trunk_link', 'residential', 'secondary_link',\n",
       "       'tertiary_link', 'motorway_link', 'pitch', 'motorway',\n",
       "       'convenience', 'university', 'car', 'house', 'company', 'school',\n",
       "       'marketplace', 'fuel', 'clothes', 'government', 'bus_station',\n",
       "       'bank', 'cinema'], dtype=object)"
      ]
     },
     "execution_count": 324,
     "metadata": {},
     "output_type": "execute_result"
    }
   ],
   "source": [
    "df['street_type'].unique()"
   ]
  },
  {
   "cell_type": "code",
   "execution_count": 325,
   "metadata": {},
   "outputs": [],
   "source": [
    "st_type = {'tertiary':0, 'secondary':1, 'unclassified':2, 'primary_link':3, 'primary':4,\n",
    "       'trunk':5, 'trunk_link':6, 'residential':7, 'secondary_link':8,\n",
    "       'tertiary_link':9, 'motorway_link':10, 'pitch':11, 'motorway':12,\n",
    "       'convenience':13, 'university':14, 'car':15, 'house':16, 'company':17, 'school':18,\n",
    "       'marketplace':19, 'fuel':20, 'clothes':21, 'government':22, 'bus_station':23,\n",
    "       'bank':24, 'cinema':25}\n",
    "\n",
    "def st_type_encode(value):\n",
    "    return st_type[value]"
   ]
  },
  {
   "cell_type": "code",
   "execution_count": 326,
   "metadata": {},
   "outputs": [],
   "source": [
    "df['street_type'] = df['street_type'].map(st_type_encode)"
   ]
  },
  {
   "cell_type": "code",
   "execution_count": 327,
   "metadata": {},
   "outputs": [
    {
     "data": {
      "text/html": [
       "<div>\n",
       "<style scoped>\n",
       "    .dataframe tbody tr th:only-of-type {\n",
       "        vertical-align: middle;\n",
       "    }\n",
       "\n",
       "    .dataframe tbody tr th {\n",
       "        vertical-align: top;\n",
       "    }\n",
       "\n",
       "    .dataframe thead th {\n",
       "        text-align: right;\n",
       "    }\n",
       "</style>\n",
       "<table border=\"1\" class=\"dataframe\">\n",
       "  <thead>\n",
       "    <tr style=\"text-align: right;\">\n",
       "      <th></th>\n",
       "      <th>weekday</th>\n",
       "      <th>period</th>\n",
       "      <th>LOS</th>\n",
       "      <th>length</th>\n",
       "      <th>max_velocity</th>\n",
       "      <th>street_level</th>\n",
       "      <th>street_type</th>\n",
       "      <th>long_snode</th>\n",
       "      <th>lat_snode</th>\n",
       "      <th>holiday</th>\n",
       "    </tr>\n",
       "  </thead>\n",
       "  <tbody>\n",
       "    <tr>\n",
       "      <th>0</th>\n",
       "      <td>4</td>\n",
       "      <td>1</td>\n",
       "      <td>0</td>\n",
       "      <td>116</td>\n",
       "      <td>NaN</td>\n",
       "      <td>4</td>\n",
       "      <td>0</td>\n",
       "      <td>106.768732</td>\n",
       "      <td>10.841506</td>\n",
       "      <td>0</td>\n",
       "    </tr>\n",
       "    <tr>\n",
       "      <th>1</th>\n",
       "      <td>6</td>\n",
       "      <td>45</td>\n",
       "      <td>2</td>\n",
       "      <td>26</td>\n",
       "      <td>NaN</td>\n",
       "      <td>3</td>\n",
       "      <td>1</td>\n",
       "      <td>106.761957</td>\n",
       "      <td>10.878650</td>\n",
       "      <td>0</td>\n",
       "    </tr>\n",
       "    <tr>\n",
       "      <th>2</th>\n",
       "      <td>0</td>\n",
       "      <td>0</td>\n",
       "      <td>3</td>\n",
       "      <td>26</td>\n",
       "      <td>NaN</td>\n",
       "      <td>3</td>\n",
       "      <td>1</td>\n",
       "      <td>106.761957</td>\n",
       "      <td>10.878650</td>\n",
       "      <td>0</td>\n",
       "    </tr>\n",
       "    <tr>\n",
       "      <th>3</th>\n",
       "      <td>1</td>\n",
       "      <td>19</td>\n",
       "      <td>1</td>\n",
       "      <td>7</td>\n",
       "      <td>NaN</td>\n",
       "      <td>3</td>\n",
       "      <td>1</td>\n",
       "      <td>106.768412</td>\n",
       "      <td>10.880817</td>\n",
       "      <td>0</td>\n",
       "    </tr>\n",
       "    <tr>\n",
       "      <th>4</th>\n",
       "      <td>1</td>\n",
       "      <td>19</td>\n",
       "      <td>1</td>\n",
       "      <td>7</td>\n",
       "      <td>NaN</td>\n",
       "      <td>3</td>\n",
       "      <td>1</td>\n",
       "      <td>106.768412</td>\n",
       "      <td>10.880817</td>\n",
       "      <td>0</td>\n",
       "    </tr>\n",
       "  </tbody>\n",
       "</table>\n",
       "</div>"
      ],
      "text/plain": [
       "   weekday  period  LOS  length  max_velocity  street_level  street_type  \\\n",
       "0        4       1    0     116           NaN             4            0   \n",
       "1        6      45    2      26           NaN             3            1   \n",
       "2        0       0    3      26           NaN             3            1   \n",
       "3        1      19    1       7           NaN             3            1   \n",
       "4        1      19    1       7           NaN             3            1   \n",
       "\n",
       "   long_snode  lat_snode  holiday  \n",
       "0  106.768732  10.841506        0  \n",
       "1  106.761957  10.878650        0  \n",
       "2  106.761957  10.878650        0  \n",
       "3  106.768412  10.880817        0  \n",
       "4  106.768412  10.880817        0  "
      ]
     },
     "execution_count": 327,
     "metadata": {},
     "output_type": "execute_result"
    }
   ],
   "source": [
    "df.head()"
   ]
  },
  {
   "cell_type": "code",
   "execution_count": 328,
   "metadata": {},
   "outputs": [
    {
     "data": {
      "text/plain": [
       "max_velocity\n",
       "60.0     2539\n",
       "80.0      858\n",
       "40.0      590\n",
       "50.0      558\n",
       "70.0      186\n",
       "20.0       91\n",
       "30.0       84\n",
       "120.0      26\n",
       "10.0       10\n",
       "45.0        3\n",
       "100.0       1\n",
       "Name: count, dtype: int64"
      ]
     },
     "execution_count": 328,
     "metadata": {},
     "output_type": "execute_result"
    }
   ],
   "source": [
    "df['max_velocity'].value_counts()"
   ]
  },
  {
   "cell_type": "code",
   "execution_count": 329,
   "metadata": {},
   "outputs": [
    {
     "data": {
      "image/png": "[encoded data removed]",
      "text/plain": [
       "<Figure size 640x480 with 1 Axes>"
      ]
     },
     "metadata": {},
     "output_type": "display_data"
    }
   ],
   "source": [
    "data = df.copy()\n",
    "data['max_velocity'] = np.where(data['max_velocity'].isnull(), 1, 0)\n",
    "sns.countplot(x=\"LOS\", hue=\"max_velocity\", data=data)\n",
    "plt.show()"
   ]
  },
  {
   "cell_type": "code",
   "execution_count": 330,
   "metadata": {},
   "outputs": [],
   "source": [
    "num_vars = ['lat_snode','long_snode','length','max_velocity']\n",
    "cat_vars = ['weekday','period','LOS','street_level','street_type','holiday']"
   ]
  },
  {
   "cell_type": "code",
   "execution_count": 331,
   "metadata": {},
   "outputs": [
    {
     "name": "stderr",
     "output_type": "stream",
     "text": [
      "c:\\Users\\Saran\\AppData\\Local\\Programs\\Python\\Python310\\lib\\site-packages\\pandas\\core\\arraylike.py:396: RuntimeWarning: divide by zero encountered in log\n",
      "  result = getattr(ufunc, method)(*inputs, **kwargs)\n"
     ]
    },
    {
     "data": {
      "image/png": "[encoded data removed]",
      "text/plain": [
       "<Figure size 640x480 with 1 Axes>"
      ]
     },
     "metadata": {},
     "output_type": "display_data"
    },
    {
     "data": {
      "image/png": "[encoded data removed]",
      "text/plain": [
       "<Figure size 640x480 with 1 Axes>"
      ]
     },
     "metadata": {},
     "output_type": "display_data"
    },
    {
     "data": {
      "image/png": "[encoded data removed]",
      "text/plain": [
       "<Figure size 640x480 with 1 Axes>"
      ]
     },
     "metadata": {},
     "output_type": "display_data"
    },
    {
     "data": {
      "image/png": "[encoded data removed]",
      "text/plain": [
       "<Figure size 640x480 with 1 Axes>"
      ]
     },
     "metadata": {},
     "output_type": "display_data"
    }
   ],
   "source": [
    "for feature in num_vars:\n",
    "    data=df.copy()\n",
    "    data[feature]=np.log(data[feature])\n",
    "    data['LOS']=np.log(data['LOS'])\n",
    "    plt.scatter(data[feature],data['LOS'])\n",
    "    plt.xlabel(feature)\n",
    "    plt.ylabel('LOS')\n",
    "    plt.title(feature)\n",
    "    plt.show()\n",
    "    "
   ]
  },
  {
   "cell_type": "code",
   "execution_count": 332,
   "metadata": {},
   "outputs": [
    {
     "name": "stdout",
     "output_type": "stream",
     "text": [
      "False\n"
     ]
    }
   ],
   "source": [
    "df = df.loc[df['length'] != 0]\n",
    "print(0 in df['length'].unique())"
   ]
  },
  {
   "cell_type": "code",
   "execution_count": 333,
   "metadata": {},
   "outputs": [
    {
     "data": {
      "image/png": "[encoded data removed]",
      "text/plain": [
       "<Figure size 640x480 with 1 Axes>"
      ]
     },
     "metadata": {},
     "output_type": "display_data"
    },
    {
     "data": {
      "image/png": "[encoded data removed]",
      "text/plain": [
       "<Figure size 640x480 with 1 Axes>"
      ]
     },
     "metadata": {},
     "output_type": "display_data"
    },
    {
     "data": {
      "image/png": "[encoded data removed]",
      "text/plain": [
       "<Figure size 640x480 with 1 Axes>"
      ]
     },
     "metadata": {},
     "output_type": "display_data"
    },
    {
     "data": {
      "image/png": "[encoded data removed]",
      "text/plain": [
       "<Figure size 640x480 with 1 Axes>"
      ]
     },
     "metadata": {},
     "output_type": "display_data"
    }
   ],
   "source": [
    "for feature in num_vars:\n",
    "    data=df.copy()\n",
    "    if 0 in data[feature].unique():\n",
    "        pass\n",
    "    else:\n",
    "        data[feature]=np.log(data[feature])\n",
    "        data.boxplot(column=feature)\n",
    "        plt.ylabel(feature)\n",
    "        plt.title(feature)\n",
    "        plt.show()"
   ]
  },
  {
   "cell_type": "markdown",
   "metadata": {},
   "source": [
    "MAX VELOCITY"
   ]
  },
  {
   "cell_type": "code",
   "execution_count": 334,
   "metadata": {},
   "outputs": [],
   "source": [
    "model = RandomForestClassifier()\n",
    "X = df[df['max_velocity'].notna()]\n",
    "Y = df[df['max_velocity'].isna()]"
   ]
  },
  {
   "cell_type": "code",
   "execution_count": 335,
   "metadata": {},
   "outputs": [],
   "source": [
    "train_feats = ['weekday','period','LOS','lat_snode','long_snode','length','street_level','street_type','holiday']\n",
    "test_feats = ['max_velocity']"
   ]
  },
  {
   "cell_type": "code",
   "execution_count": 336,
   "metadata": {},
   "outputs": [
    {
     "name": "stderr",
     "output_type": "stream",
     "text": [
      "c:\\Users\\Saran\\AppData\\Local\\Programs\\Python\\Python310\\lib\\site-packages\\sklearn\\base.py:1152: DataConversionWarning: A column-vector y was passed when a 1d array was expected. Please change the shape of y to (n_samples,), for example using ravel().\n",
      "  return fit_method(estimator, *args, **kwargs)\n"
     ]
    },
    {
     "data": {
      "text/html": [
       "<style>#sk-container-id-7 {color: black;}#sk-container-id-7 pre{padding: 0;}#sk-container-id-7 div.sk-toggleable {background-color: white;}#sk-container-id-7 label.sk-toggleable__label {cursor: pointer;display: block;width: 100%;margin-bottom: 0;padding: 0.3em;box-sizing: border-box;text-align: center;}#sk-container-id-7 label.sk-toggleable__label-arrow:before {content: \"▸\";float: left;margin-right: 0.25em;color: #696969;}#sk-container-id-7 label.sk-toggleable__label-arrow:hover:before {color: black;}#sk-container-id-7 div.sk-estimator:hover label.sk-toggleable__label-arrow:before {color: black;}#sk-container-id-7 div.sk-toggleable__content {max-height: 0;max-width: 0;overflow: hidden;text-align: left;background-color: #f0f8ff;}#sk-container-id-7 div.sk-toggleable__content pre {margin: 0.2em;color: black;border-radius: 0.25em;background-color: #f0f8ff;}#sk-container-id-7 input.sk-toggleable__control:checked~div.sk-toggleable__content {max-height: 200px;max-width: 100%;overflow: auto;}#sk-container-id-7 input.sk-toggleable__control:checked~label.sk-toggleable__label-arrow:before {content: \"▾\";}#sk-container-id-7 div.sk-estimator input.sk-toggleable__control:checked~label.sk-toggleable__label {background-color: #d4ebff;}#sk-container-id-7 div.sk-label input.sk-toggleable__control:checked~label.sk-toggleable__label {background-color: #d4ebff;}#sk-container-id-7 input.sk-hidden--visually {border: 0;clip: rect(1px 1px 1px 1px);clip: rect(1px, 1px, 1px, 1px);height: 1px;margin: -1px;overflow: hidden;padding: 0;position: absolute;width: 1px;}#sk-container-id-7 div.sk-estimator {font-family: monospace;background-color: #f0f8ff;border: 1px dotted black;border-radius: 0.25em;box-sizing: border-box;margin-bottom: 0.5em;}#sk-container-id-7 div.sk-estimator:hover {background-color: #d4ebff;}#sk-container-id-7 div.sk-parallel-item::after {content: \"\";width: 100%;border-bottom: 1px solid gray;flex-grow: 1;}#sk-container-id-7 div.sk-label:hover label.sk-toggleable__label {background-color: #d4ebff;}#sk-container-id-7 div.sk-serial::before {content: \"\";position: absolute;border-left: 1px solid gray;box-sizing: border-box;top: 0;bottom: 0;left: 50%;z-index: 0;}#sk-container-id-7 div.sk-serial {display: flex;flex-direction: column;align-items: center;background-color: white;padding-right: 0.2em;padding-left: 0.2em;position: relative;}#sk-container-id-7 div.sk-item {position: relative;z-index: 1;}#sk-container-id-7 div.sk-parallel {display: flex;align-items: stretch;justify-content: center;background-color: white;position: relative;}#sk-container-id-7 div.sk-item::before, #sk-container-id-7 div.sk-parallel-item::before {content: \"\";position: absolute;border-left: 1px solid gray;box-sizing: border-box;top: 0;bottom: 0;left: 50%;z-index: -1;}#sk-container-id-7 div.sk-parallel-item {display: flex;flex-direction: column;z-index: 1;position: relative;background-color: white;}#sk-container-id-7 div.sk-parallel-item:first-child::after {align-self: flex-end;width: 50%;}#sk-container-id-7 div.sk-parallel-item:last-child::after {align-self: flex-start;width: 50%;}#sk-container-id-7 div.sk-parallel-item:only-child::after {width: 0;}#sk-container-id-7 div.sk-dashed-wrapped {border: 1px dashed gray;margin: 0 0.4em 0.5em 0.4em;box-sizing: border-box;padding-bottom: 0.4em;background-color: white;}#sk-container-id-7 div.sk-label label {font-family: monospace;font-weight: bold;display: inline-block;line-height: 1.2em;}#sk-container-id-7 div.sk-label-container {text-align: center;}#sk-container-id-7 div.sk-container {/* jupyter's `normalize.less` sets `[hidden] { display: none; }` but bootstrap.min.css set `[hidden] { display: none !important; }` so we also need the `!important` here to be able to override the default hidden behavior on the sphinx rendered scikit-learn.org. See: https://github.com/scikit-learn/scikit-learn/issues/21755 */display: inline-block !important;position: relative;}#sk-container-id-7 div.sk-text-repr-fallback {display: none;}</style><div id=\"sk-container-id-7\" class=\"sk-top-container\"><div class=\"sk-text-repr-fallback\"><pre>RandomForestClassifier()</pre><b>In a Jupyter environment, please rerun this cell to show the HTML representation or trust the notebook. <br />On GitHub, the HTML representation is unable to render, please try loading this page with nbviewer.org.</b></div><div class=\"sk-container\" hidden><div class=\"sk-item\"><div class=\"sk-estimator sk-toggleable\"><input class=\"sk-toggleable__control sk-hidden--visually\" id=\"sk-estimator-id-7\" type=\"checkbox\" checked><label for=\"sk-estimator-id-7\" class=\"sk-toggleable__label sk-toggleable__label-arrow\">RandomForestClassifier</label><div class=\"sk-toggleable__content\"><pre>RandomForestClassifier()</pre></div></div></div></div></div>"
      ],
      "text/plain": [
       "RandomForestClassifier()"
      ]
     },
     "execution_count": 336,
     "metadata": {},
     "output_type": "execute_result"
    }
   ],
   "source": [
    "model.fit(X[train_feats],X[test_feats])"
   ]
  },
  {
   "cell_type": "code",
   "execution_count": 337,
   "metadata": {},
   "outputs": [
    {
     "data": {
      "text/plain": [
       "max_velocity\n",
       "60.0     2538\n",
       "80.0      858\n",
       "40.0      590\n",
       "50.0      558\n",
       "70.0      186\n",
       "20.0       91\n",
       "30.0       80\n",
       "120.0      26\n",
       "10.0       10\n",
       "45.0        3\n",
       "100.0       1\n",
       "Name: count, dtype: int64"
      ]
     },
     "execution_count": 337,
     "metadata": {},
     "output_type": "execute_result"
    }
   ],
   "source": [
    "df['max_velocity'].value_counts()"
   ]
  },
  {
   "cell_type": "code",
   "execution_count": 338,
   "metadata": {},
   "outputs": [],
   "source": [
    "data = pd.DataFrame()\n",
    "vel_pred = model.predict(Y[train_feats])\n",
    "data = X\n",
    "temp = Y[train_feats]\n",
    "temp['max_velocity'] = vel_pred\n",
    "data = pd.concat([data,temp], ignore_index = True)"
   ]
  },
  {
   "cell_type": "code",
   "execution_count": 339,
   "metadata": {},
   "outputs": [
    {
     "data": {
      "text/plain": [
       "max_velocity\n",
       "60.0     9694\n",
       "50.0     8443\n",
       "40.0     8288\n",
       "30.0     4029\n",
       "80.0     1080\n",
       "20.0     1064\n",
       "70.0      707\n",
       "120.0      32\n",
       "10.0       31\n",
       "45.0       15\n",
       "100.0       1\n",
       "Name: count, dtype: int64"
      ]
     },
     "execution_count": 339,
     "metadata": {},
     "output_type": "execute_result"
    }
   ],
   "source": [
    "data['max_velocity'].value_counts()"
   ]
  },
  {
   "cell_type": "code",
   "execution_count": 340,
   "metadata": {},
   "outputs": [
    {
     "data": {
      "text/html": [
       "<div>\n",
       "<style scoped>\n",
       "    .dataframe tbody tr th:only-of-type {\n",
       "        vertical-align: middle;\n",
       "    }\n",
       "\n",
       "    .dataframe tbody tr th {\n",
       "        vertical-align: top;\n",
       "    }\n",
       "\n",
       "    .dataframe thead th {\n",
       "        text-align: right;\n",
       "    }\n",
       "</style>\n",
       "<table border=\"1\" class=\"dataframe\">\n",
       "  <thead>\n",
       "    <tr style=\"text-align: right;\">\n",
       "      <th></th>\n",
       "      <th>weekday</th>\n",
       "      <th>period</th>\n",
       "      <th>LOS</th>\n",
       "      <th>length</th>\n",
       "      <th>max_velocity</th>\n",
       "      <th>street_level</th>\n",
       "      <th>street_type</th>\n",
       "      <th>long_snode</th>\n",
       "      <th>lat_snode</th>\n",
       "      <th>holiday</th>\n",
       "    </tr>\n",
       "  </thead>\n",
       "  <tbody>\n",
       "    <tr>\n",
       "      <th>0</th>\n",
       "      <td>6</td>\n",
       "      <td>45</td>\n",
       "      <td>3</td>\n",
       "      <td>8</td>\n",
       "      <td>40.0</td>\n",
       "      <td>3</td>\n",
       "      <td>1</td>\n",
       "      <td>106.659032</td>\n",
       "      <td>10.751940</td>\n",
       "      <td>0</td>\n",
       "    </tr>\n",
       "    <tr>\n",
       "      <th>1</th>\n",
       "      <td>0</td>\n",
       "      <td>0</td>\n",
       "      <td>4</td>\n",
       "      <td>8</td>\n",
       "      <td>40.0</td>\n",
       "      <td>3</td>\n",
       "      <td>1</td>\n",
       "      <td>106.659032</td>\n",
       "      <td>10.751940</td>\n",
       "      <td>0</td>\n",
       "    </tr>\n",
       "    <tr>\n",
       "      <th>2</th>\n",
       "      <td>6</td>\n",
       "      <td>45</td>\n",
       "      <td>4</td>\n",
       "      <td>32</td>\n",
       "      <td>40.0</td>\n",
       "      <td>4</td>\n",
       "      <td>0</td>\n",
       "      <td>106.625519</td>\n",
       "      <td>10.744441</td>\n",
       "      <td>0</td>\n",
       "    </tr>\n",
       "    <tr>\n",
       "      <th>3</th>\n",
       "      <td>0</td>\n",
       "      <td>0</td>\n",
       "      <td>4</td>\n",
       "      <td>32</td>\n",
       "      <td>40.0</td>\n",
       "      <td>4</td>\n",
       "      <td>0</td>\n",
       "      <td>106.625519</td>\n",
       "      <td>10.744441</td>\n",
       "      <td>0</td>\n",
       "    </tr>\n",
       "    <tr>\n",
       "      <th>4</th>\n",
       "      <td>2</td>\n",
       "      <td>43</td>\n",
       "      <td>0</td>\n",
       "      <td>359</td>\n",
       "      <td>50.0</td>\n",
       "      <td>1</td>\n",
       "      <td>5</td>\n",
       "      <td>106.731920</td>\n",
       "      <td>10.799762</td>\n",
       "      <td>1</td>\n",
       "    </tr>\n",
       "  </tbody>\n",
       "</table>\n",
       "</div>"
      ],
      "text/plain": [
       "   weekday  period  LOS  length  max_velocity  street_level  street_type  \\\n",
       "0        6      45    3       8          40.0             3            1   \n",
       "1        0       0    4       8          40.0             3            1   \n",
       "2        6      45    4      32          40.0             4            0   \n",
       "3        0       0    4      32          40.0             4            0   \n",
       "4        2      43    0     359          50.0             1            5   \n",
       "\n",
       "   long_snode  lat_snode  holiday  \n",
       "0  106.659032  10.751940        0  \n",
       "1  106.659032  10.751940        0  \n",
       "2  106.625519  10.744441        0  \n",
       "3  106.625519  10.744441        0  \n",
       "4  106.731920  10.799762        1  "
      ]
     },
     "execution_count": 340,
     "metadata": {},
     "output_type": "execute_result"
    }
   ],
   "source": [
    "data.head()"
   ]
  },
  {
   "cell_type": "markdown",
   "metadata": {},
   "source": [
    "MODELS"
   ]
  },
  {
   "cell_type": "code",
   "execution_count": 341,
   "metadata": {},
   "outputs": [],
   "source": [
    "from sklearn.linear_model import LogisticRegression\n",
    "from sklearn.ensemble import AdaBoostClassifier\n",
    "from sklearn.tree import DecisionTreeClassifier\n",
    "from sklearn.ensemble import RandomForestClassifier\n",
    "from imblearn.ensemble import BalancedBaggingClassifier"
   ]
  },
  {
   "cell_type": "code",
   "execution_count": 342,
   "metadata": {},
   "outputs": [],
   "source": [
    "def result(dataFrame,x_train,y_train,x_test,y_test):\n",
    "    \n",
    "    log = LogisticRegression()\n",
    "    ada = AdaBoostClassifier()\n",
    "    dtc = DecisionTreeClassifier()\n",
    "    rfc = RandomForestClassifier(n_estimators=500)\n",
    "    bbc = BalancedBaggingClassifier()\n",
    "\n",
    "    log.fit(x_train,y_train)\n",
    "    ada.fit(x_train,y_train)\n",
    "    dtc.fit(x_train,y_train)\n",
    "    rfc.fit(x_train,y_train)\n",
    "    bbc.fit(x_train,y_train)\n",
    "    \n",
    "    y_pred = log.predict(x_test)\n",
    "    print(\"LogisticRegression :\",metrics.classification_report(y_test,y_pred))\n",
    "\n",
    "    y_pred = ada.predict(x_test)\n",
    "    print(\"AdaBoost :\",metrics.classification_report(y_test,y_pred))\n",
    "   \n",
    "    y_pred = dtc.predict(x_test)\n",
    "    print(\"DecisionTree :\",metrics.classification_report(y_test,y_pred))\n",
    "    \n",
    "    y_pred = rfc.predict(x_test)\n",
    "    print(\"RandomForest :\",metrics.classification_report(y_test,y_pred))\n",
    "    \n",
    "    y_pred = bbc.predict(x_test)\n",
    "    print(\"BalancedBagging :\",metrics.classification_report(y_test,y_pred))\n",
    "   "
   ]
  },
  {
   "cell_type": "markdown",
   "metadata": {},
   "source": [
    "PREDICTION 1"
   ]
  },
  {
   "cell_type": "code",
   "execution_count": 343,
   "metadata": {},
   "outputs": [],
   "source": [
    "rob_scaler = RobustScaler()\n",
    "for feature in num_vars:\n",
    "    #data=df.copy()\n",
    "    #data[feature]=np.log(data[feature])\n",
    "    data[feature] = rob_scaler.fit_transform(data[[feature]])"
   ]
  },
  {
   "cell_type": "code",
   "execution_count": 344,
   "metadata": {},
   "outputs": [
    {
     "data": {
      "text/html": [
       "<div>\n",
       "<style scoped>\n",
       "    .dataframe tbody tr th:only-of-type {\n",
       "        vertical-align: middle;\n",
       "    }\n",
       "\n",
       "    .dataframe tbody tr th {\n",
       "        vertical-align: top;\n",
       "    }\n",
       "\n",
       "    .dataframe thead th {\n",
       "        text-align: right;\n",
       "    }\n",
       "</style>\n",
       "<table border=\"1\" class=\"dataframe\">\n",
       "  <thead>\n",
       "    <tr style=\"text-align: right;\">\n",
       "      <th></th>\n",
       "      <th>weekday</th>\n",
       "      <th>period</th>\n",
       "      <th>LOS</th>\n",
       "      <th>length</th>\n",
       "      <th>max_velocity</th>\n",
       "      <th>street_level</th>\n",
       "      <th>street_type</th>\n",
       "      <th>long_snode</th>\n",
       "      <th>lat_snode</th>\n",
       "      <th>holiday</th>\n",
       "    </tr>\n",
       "  </thead>\n",
       "  <tbody>\n",
       "    <tr>\n",
       "      <th>0</th>\n",
       "      <td>6</td>\n",
       "      <td>45</td>\n",
       "      <td>3</td>\n",
       "      <td>-0.565217</td>\n",
       "      <td>-0.5</td>\n",
       "      <td>3</td>\n",
       "      <td>1</td>\n",
       "      <td>-0.159259</td>\n",
       "      <td>-0.707731</td>\n",
       "      <td>0</td>\n",
       "    </tr>\n",
       "    <tr>\n",
       "      <th>1</th>\n",
       "      <td>0</td>\n",
       "      <td>0</td>\n",
       "      <td>4</td>\n",
       "      <td>-0.565217</td>\n",
       "      <td>-0.5</td>\n",
       "      <td>3</td>\n",
       "      <td>1</td>\n",
       "      <td>-0.159259</td>\n",
       "      <td>-0.707731</td>\n",
       "      <td>0</td>\n",
       "    </tr>\n",
       "    <tr>\n",
       "      <th>2</th>\n",
       "      <td>6</td>\n",
       "      <td>45</td>\n",
       "      <td>4</td>\n",
       "      <td>-0.043478</td>\n",
       "      <td>-0.5</td>\n",
       "      <td>4</td>\n",
       "      <td>0</td>\n",
       "      <td>-1.100836</td>\n",
       "      <td>-0.823249</td>\n",
       "      <td>0</td>\n",
       "    </tr>\n",
       "    <tr>\n",
       "      <th>3</th>\n",
       "      <td>0</td>\n",
       "      <td>0</td>\n",
       "      <td>4</td>\n",
       "      <td>-0.043478</td>\n",
       "      <td>-0.5</td>\n",
       "      <td>4</td>\n",
       "      <td>0</td>\n",
       "      <td>-1.100836</td>\n",
       "      <td>-0.823249</td>\n",
       "      <td>0</td>\n",
       "    </tr>\n",
       "    <tr>\n",
       "      <th>4</th>\n",
       "      <td>2</td>\n",
       "      <td>43</td>\n",
       "      <td>0</td>\n",
       "      <td>7.065217</td>\n",
       "      <td>0.0</td>\n",
       "      <td>1</td>\n",
       "      <td>5</td>\n",
       "      <td>1.888611</td>\n",
       "      <td>0.028923</td>\n",
       "      <td>1</td>\n",
       "    </tr>\n",
       "  </tbody>\n",
       "</table>\n",
       "</div>"
      ],
      "text/plain": [
       "   weekday  period  LOS    length  max_velocity  street_level  street_type  \\\n",
       "0        6      45    3 -0.565217          -0.5             3            1   \n",
       "1        0       0    4 -0.565217          -0.5             3            1   \n",
       "2        6      45    4 -0.043478          -0.5             4            0   \n",
       "3        0       0    4 -0.043478          -0.5             4            0   \n",
       "4        2      43    0  7.065217           0.0             1            5   \n",
       "\n",
       "   long_snode  lat_snode  holiday  \n",
       "0   -0.159259  -0.707731        0  \n",
       "1   -0.159259  -0.707731        0  \n",
       "2   -1.100836  -0.823249        0  \n",
       "3   -1.100836  -0.823249        0  \n",
       "4    1.888611   0.028923        1  "
      ]
     },
     "execution_count": 344,
     "metadata": {},
     "output_type": "execute_result"
    }
   ],
   "source": [
    "data.head()"
   ]
  },
  {
   "cell_type": "code",
   "execution_count": 345,
   "metadata": {},
   "outputs": [
    {
     "name": "stderr",
     "output_type": "stream",
     "text": [
      "c:\\Users\\Saran\\AppData\\Local\\Programs\\Python\\Python310\\lib\\site-packages\\sklearn\\linear_model\\_logistic.py:460: ConvergenceWarning: lbfgs failed to converge (status=1):\n",
      "STOP: TOTAL NO. of ITERATIONS REACHED LIMIT.\n",
      "\n",
      "Increase the number of iterations (max_iter) or scale the data as shown in:\n",
      "    https://scikit-learn.org/stable/modules/preprocessing.html\n",
      "Please also refer to the documentation for alternative solver options:\n",
      "    https://scikit-learn.org/stable/modules/linear_model.html#logistic-regression\n",
      "  n_iter_i = _check_optimize_result(\n"
     ]
    },
    {
     "name": "stdout",
     "output_type": "stream",
     "text": [
      "LogisticRegression :               precision    recall  f1-score   support\n",
      "\n",
      "           0       0.52      0.81      0.64      2619\n",
      "           1       0.45      0.37      0.41       941\n",
      "           2       0.28      0.03      0.06       791\n",
      "           3       0.32      0.45      0.38       744\n",
      "           4       0.24      0.18      0.21       770\n",
      "           5       0.17      0.03      0.05       812\n",
      "\n",
      "    accuracy                           0.45      6677\n",
      "   macro avg       0.33      0.31      0.29      6677\n",
      "weighted avg       0.39      0.45      0.39      6677\n",
      "\n",
      "AdaBoost :               precision    recall  f1-score   support\n",
      "\n",
      "           0       0.63      0.87      0.73      2619\n",
      "           1       0.61      0.41      0.49       941\n",
      "           2       0.17      0.01      0.02       791\n",
      "           3       0.39      0.47      0.42       744\n",
      "           4       0.32      0.30      0.31       770\n",
      "           5       0.40      0.36      0.38       812\n",
      "\n",
      "    accuracy                           0.53      6677\n",
      "   macro avg       0.42      0.40      0.39      6677\n",
      "weighted avg       0.48      0.53      0.49      6677\n",
      "\n",
      "DecisionTree :               precision    recall  f1-score   support\n",
      "\n",
      "           0       0.86      0.86      0.86      2619\n",
      "           1       0.69      0.70      0.69       941\n",
      "           2       0.26      0.25      0.25       791\n",
      "           3       0.32      0.32      0.32       744\n",
      "           4       0.26      0.28      0.27       770\n",
      "           5       0.50      0.47      0.49       812\n",
      "\n",
      "    accuracy                           0.59      6677\n",
      "   macro avg       0.48      0.48      0.48      6677\n",
      "weighted avg       0.59      0.59      0.59      6677\n",
      "\n",
      "RandomForest :               precision    recall  f1-score   support\n",
      "\n",
      "           0       0.86      0.91      0.88      2619\n",
      "           1       0.74      0.70      0.72       941\n",
      "           2       0.28      0.25      0.26       791\n",
      "           3       0.37      0.38      0.37       744\n",
      "           4       0.27      0.26      0.26       770\n",
      "           5       0.54      0.54      0.54       812\n",
      "\n",
      "    accuracy                           0.62      6677\n",
      "   macro avg       0.51      0.51      0.51      6677\n",
      "weighted avg       0.61      0.62      0.62      6677\n",
      "\n",
      "BalancedBagging :               precision    recall  f1-score   support\n",
      "\n",
      "           0       0.91      0.84      0.87      2619\n",
      "           1       0.69      0.71      0.70       941\n",
      "           2       0.24      0.28      0.26       791\n",
      "           3       0.33      0.36      0.34       744\n",
      "           4       0.26      0.26      0.26       770\n",
      "           5       0.51      0.50      0.50       812\n",
      "\n",
      "    accuracy                           0.59      6677\n",
      "   macro avg       0.49      0.49      0.49      6677\n",
      "weighted avg       0.61      0.59      0.60      6677\n",
      "\n"
     ]
    }
   ],
   "source": [
    "x = data.drop(['LOS'],axis = 1)\n",
    "y = data['LOS']\n",
    "x_train,x_test,y_train,y_test = train_test_split(x,y,test_size=0.2,random_state=42)\n",
    "\n",
    "result(dataFrame=data,x_train=x_train,y_train=y_train,x_test=x_test,y_test=y_test)"
   ]
  },
  {
   "cell_type": "code",
   "execution_count": 346,
   "metadata": {},
   "outputs": [],
   "source": [
    "# from sklearn.metrics import roc_auc_score,roc_curve\n",
    "# fpr,tpr,threshold = roc_auc_score(y_test,y_pred1,multi_class='ovr')"
   ]
  },
  {
   "cell_type": "code",
   "execution_count": 347,
   "metadata": {},
   "outputs": [
    {
     "data": {
      "text/plain": [
       "<Axes: >"
      ]
     },
     "execution_count": 347,
     "metadata": {},
     "output_type": "execute_result"
    },
    {
     "data": {
      "image/png": "[encoded data removed]",
      "text/plain": [
       "<Figure size 640x480 with 2 Axes>"
      ]
     },
     "metadata": {},
     "output_type": "display_data"
    }
   ],
   "source": [
    "sns.heatmap(df.corr())"
   ]
  },
  {
   "cell_type": "code",
   "execution_count": 348,
   "metadata": {},
   "outputs": [
    {
     "data": {
      "text/plain": [
       "<Axes: ylabel='LOS'>"
      ]
     },
     "execution_count": 348,
     "metadata": {},
     "output_type": "execute_result"
    },
    {
     "data": {
      "image/png": "[encoded data removed]",
      "text/plain": [
       "<Figure size 640x480 with 1 Axes>"
      ]
     },
     "metadata": {},
     "output_type": "display_data"
    }
   ],
   "source": [
    "sns.scatterplot(df['LOS'])"
   ]
  },
  {
   "cell_type": "markdown",
   "metadata": {},
   "source": [
    "PREDICTION - 2"
   ]
  },
  {
   "cell_type": "code",
   "execution_count": 349,
   "metadata": {},
   "outputs": [],
   "source": [
    "from imblearn.over_sampling import SMOTEN\n",
    "sampler = SMOTEN(random_state=0)\n",
    "x = data.drop('LOS',axis = 1)\n",
    "y = data['LOS']\n",
    "x_res,y_res = sampler.fit_resample(x,y)"
   ]
  },
  {
   "cell_type": "code",
   "execution_count": 350,
   "metadata": {},
   "outputs": [
    {
     "name": "stderr",
     "output_type": "stream",
     "text": [
      "c:\\Users\\Saran\\AppData\\Local\\Programs\\Python\\Python310\\lib\\site-packages\\sklearn\\linear_model\\_logistic.py:460: ConvergenceWarning: lbfgs failed to converge (status=1):\n",
      "STOP: TOTAL NO. of ITERATIONS REACHED LIMIT.\n",
      "\n",
      "Increase the number of iterations (max_iter) or scale the data as shown in:\n",
      "    https://scikit-learn.org/stable/modules/preprocessing.html\n",
      "Please also refer to the documentation for alternative solver options:\n",
      "    https://scikit-learn.org/stable/modules/linear_model.html#logistic-regression\n",
      "  n_iter_i = _check_optimize_result(\n"
     ]
    },
    {
     "name": "stdout",
     "output_type": "stream",
     "text": [
      "LogisticRegression :               precision    recall  f1-score   support\n",
      "\n",
      "           0       0.49      0.55      0.52      2592\n",
      "           1       0.52      0.60      0.56      2687\n",
      "           2       0.26      0.12      0.16      2640\n",
      "           3       0.36      0.59      0.45      2721\n",
      "           4       0.30      0.26      0.28      2635\n",
      "           5       0.29      0.23      0.26      2653\n",
      "\n",
      "    accuracy                           0.39     15928\n",
      "   macro avg       0.37      0.39      0.37     15928\n",
      "weighted avg       0.37      0.39      0.37     15928\n",
      "\n",
      "AdaBoost :               precision    recall  f1-score   support\n",
      "\n",
      "           0       0.54      0.68      0.60      2592\n",
      "           1       0.59      0.57      0.58      2687\n",
      "           2       0.25      0.11      0.15      2640\n",
      "           3       0.45      0.54      0.49      2721\n",
      "           4       0.33      0.24      0.28      2635\n",
      "           5       0.36      0.51      0.42      2653\n",
      "\n",
      "    accuracy                           0.44     15928\n",
      "   macro avg       0.42      0.44      0.42     15928\n",
      "weighted avg       0.42      0.44      0.42     15928\n",
      "\n",
      "DecisionTree :               precision    recall  f1-score   support\n",
      "\n",
      "           0       0.88      0.85      0.87      2592\n",
      "           1       0.88      0.88      0.88      2687\n",
      "           2       0.77      0.78      0.78      2640\n",
      "           3       0.81      0.81      0.81      2721\n",
      "           4       0.77      0.79      0.78      2635\n",
      "           5       0.83      0.83      0.83      2653\n",
      "\n",
      "    accuracy                           0.82     15928\n",
      "   macro avg       0.82      0.82      0.82     15928\n",
      "weighted avg       0.82      0.82      0.82     15928\n",
      "\n",
      "RandomForest :               precision    recall  f1-score   support\n",
      "\n",
      "           0       0.89      0.90      0.89      2592\n",
      "           1       0.92      0.89      0.91      2687\n",
      "           2       0.79      0.79      0.79      2640\n",
      "           3       0.82      0.83      0.83      2721\n",
      "           4       0.81      0.80      0.80      2635\n",
      "           5       0.84      0.86      0.85      2653\n",
      "\n",
      "    accuracy                           0.85     15928\n",
      "   macro avg       0.85      0.85      0.85     15928\n",
      "weighted avg       0.85      0.85      0.85     15928\n",
      "\n",
      "BalancedBagging :               precision    recall  f1-score   support\n",
      "\n",
      "           0       0.90      0.89      0.89      2592\n",
      "           1       0.90      0.89      0.89      2687\n",
      "           2       0.78      0.80      0.79      2640\n",
      "           3       0.82      0.84      0.83      2721\n",
      "           4       0.80      0.79      0.80      2635\n",
      "           5       0.85      0.84      0.85      2653\n",
      "\n",
      "    accuracy                           0.84     15928\n",
      "   macro avg       0.84      0.84      0.84     15928\n",
      "weighted avg       0.84      0.84      0.84     15928\n",
      "\n"
     ]
    }
   ],
   "source": [
    "data_res = pd.DataFrame(x_res)\n",
    "data_res = pd.concat([data_res,y_res],axis = 1)\n",
    "x = data_res.drop('LOS',axis=1)\n",
    "y = data_res['LOS']\n",
    "x_train,x_test,y_train,y_test = train_test_split(x,y,test_size=0.2,random_state=42)\n",
    "result(dataFrame=data_res,x_train=x_train,y_train=y_train,x_test=x_test,y_test=y_test)"
   ]
  },
  {
   "cell_type": "markdown",
   "metadata": {},
   "source": [
    "PREDICTION - 3"
   ]
  },
  {
   "cell_type": "code",
   "execution_count": 351,
   "metadata": {},
   "outputs": [
    {
     "data": {
      "text/html": [
       "<div>\n",
       "<style scoped>\n",
       "    .dataframe tbody tr th:only-of-type {\n",
       "        vertical-align: middle;\n",
       "    }\n",
       "\n",
       "    .dataframe tbody tr th {\n",
       "        vertical-align: top;\n",
       "    }\n",
       "\n",
       "    .dataframe thead th {\n",
       "        text-align: right;\n",
       "    }\n",
       "</style>\n",
       "<table border=\"1\" class=\"dataframe\">\n",
       "  <thead>\n",
       "    <tr style=\"text-align: right;\">\n",
       "      <th></th>\n",
       "      <th>weekday</th>\n",
       "      <th>period</th>\n",
       "      <th>LOS</th>\n",
       "      <th>length</th>\n",
       "      <th>max_velocity</th>\n",
       "      <th>street_level</th>\n",
       "      <th>street_type</th>\n",
       "      <th>long_snode</th>\n",
       "      <th>lat_snode</th>\n",
       "      <th>holiday</th>\n",
       "    </tr>\n",
       "  </thead>\n",
       "  <tbody>\n",
       "    <tr>\n",
       "      <th>0</th>\n",
       "      <td>4</td>\n",
       "      <td>1</td>\n",
       "      <td>0</td>\n",
       "      <td>116</td>\n",
       "      <td>60.0</td>\n",
       "      <td>4</td>\n",
       "      <td>0</td>\n",
       "      <td>106.768732</td>\n",
       "      <td>10.841506</td>\n",
       "      <td>0</td>\n",
       "    </tr>\n",
       "    <tr>\n",
       "      <th>1</th>\n",
       "      <td>6</td>\n",
       "      <td>45</td>\n",
       "      <td>2</td>\n",
       "      <td>26</td>\n",
       "      <td>60.0</td>\n",
       "      <td>3</td>\n",
       "      <td>1</td>\n",
       "      <td>106.761957</td>\n",
       "      <td>10.878650</td>\n",
       "      <td>0</td>\n",
       "    </tr>\n",
       "    <tr>\n",
       "      <th>2</th>\n",
       "      <td>0</td>\n",
       "      <td>0</td>\n",
       "      <td>3</td>\n",
       "      <td>26</td>\n",
       "      <td>60.0</td>\n",
       "      <td>3</td>\n",
       "      <td>1</td>\n",
       "      <td>106.761957</td>\n",
       "      <td>10.878650</td>\n",
       "      <td>0</td>\n",
       "    </tr>\n",
       "    <tr>\n",
       "      <th>3</th>\n",
       "      <td>1</td>\n",
       "      <td>19</td>\n",
       "      <td>1</td>\n",
       "      <td>7</td>\n",
       "      <td>60.0</td>\n",
       "      <td>3</td>\n",
       "      <td>1</td>\n",
       "      <td>106.768412</td>\n",
       "      <td>10.880817</td>\n",
       "      <td>0</td>\n",
       "    </tr>\n",
       "    <tr>\n",
       "      <th>4</th>\n",
       "      <td>1</td>\n",
       "      <td>19</td>\n",
       "      <td>1</td>\n",
       "      <td>7</td>\n",
       "      <td>60.0</td>\n",
       "      <td>3</td>\n",
       "      <td>1</td>\n",
       "      <td>106.768412</td>\n",
       "      <td>10.880817</td>\n",
       "      <td>0</td>\n",
       "    </tr>\n",
       "  </tbody>\n",
       "</table>\n",
       "</div>"
      ],
      "text/plain": [
       "   weekday  period  LOS  length  max_velocity  street_level  street_type  \\\n",
       "0        4       1    0     116          60.0             4            0   \n",
       "1        6      45    2      26          60.0             3            1   \n",
       "2        0       0    3      26          60.0             3            1   \n",
       "3        1      19    1       7          60.0             3            1   \n",
       "4        1      19    1       7          60.0             3            1   \n",
       "\n",
       "   long_snode  lat_snode  holiday  \n",
       "0  106.768732  10.841506        0  \n",
       "1  106.761957  10.878650        0  \n",
       "2  106.761957  10.878650        0  \n",
       "3  106.768412  10.880817        0  \n",
       "4  106.768412  10.880817        0  "
      ]
     },
     "execution_count": 351,
     "metadata": {},
     "output_type": "execute_result"
    }
   ],
   "source": [
    "df['max_velocity'] = df['max_velocity'].fillna(df['max_velocity'].mode().iloc[0])\n",
    "df.head()"
   ]
  },
  {
   "cell_type": "code",
   "execution_count": 352,
   "metadata": {},
   "outputs": [
    {
     "name": "stderr",
     "output_type": "stream",
     "text": [
      "c:\\Users\\Saran\\AppData\\Local\\Programs\\Python\\Python310\\lib\\site-packages\\sklearn\\linear_model\\_logistic.py:460: ConvergenceWarning: lbfgs failed to converge (status=1):\n",
      "STOP: TOTAL NO. of ITERATIONS REACHED LIMIT.\n",
      "\n",
      "Increase the number of iterations (max_iter) or scale the data as shown in:\n",
      "    https://scikit-learn.org/stable/modules/preprocessing.html\n",
      "Please also refer to the documentation for alternative solver options:\n",
      "    https://scikit-learn.org/stable/modules/linear_model.html#logistic-regression\n",
      "  n_iter_i = _check_optimize_result(\n",
      "c:\\Users\\Saran\\AppData\\Local\\Programs\\Python\\Python310\\lib\\site-packages\\sklearn\\metrics\\_classification.py:1471: UndefinedMetricWarning: Precision and F-score are ill-defined and being set to 0.0 in labels with no predicted samples. Use `zero_division` parameter to control this behavior.\n",
      "  _warn_prf(average, modifier, msg_start, len(result))\n",
      "c:\\Users\\Saran\\AppData\\Local\\Programs\\Python\\Python310\\lib\\site-packages\\sklearn\\metrics\\_classification.py:1471: UndefinedMetricWarning: Precision and F-score are ill-defined and being set to 0.0 in labels with no predicted samples. Use `zero_division` parameter to control this behavior.\n",
      "  _warn_prf(average, modifier, msg_start, len(result))\n",
      "c:\\Users\\Saran\\AppData\\Local\\Programs\\Python\\Python310\\lib\\site-packages\\sklearn\\metrics\\_classification.py:1471: UndefinedMetricWarning: Precision and F-score are ill-defined and being set to 0.0 in labels with no predicted samples. Use `zero_division` parameter to control this behavior.\n",
      "  _warn_prf(average, modifier, msg_start, len(result))\n"
     ]
    },
    {
     "name": "stdout",
     "output_type": "stream",
     "text": [
      "LogisticRegression :               precision    recall  f1-score   support\n",
      "\n",
      "           0       0.43      0.89      0.58     10638\n",
      "           1       0.47      0.41      0.44      3764\n",
      "           2       0.00      0.00      0.00      3054\n",
      "           3       0.46      0.21      0.29      2963\n",
      "           4       0.22      0.01      0.01      2999\n",
      "           5       0.00      0.00      0.00      3290\n",
      "\n",
      "    accuracy                           0.44     26708\n",
      "   macro avg       0.26      0.25      0.22     26708\n",
      "weighted avg       0.31      0.44      0.33     26708\n",
      "\n",
      "AdaBoost :               precision    recall  f1-score   support\n",
      "\n",
      "           0       0.63      0.84      0.72     10638\n",
      "           1       0.55      0.40      0.46      3764\n",
      "           2       0.23      0.05      0.08      3054\n",
      "           3       0.42      0.46      0.44      2963\n",
      "           4       0.31      0.29      0.30      2999\n",
      "           5       0.36      0.32      0.34      3290\n",
      "\n",
      "    accuracy                           0.52     26708\n",
      "   macro avg       0.42      0.40      0.39     26708\n",
      "weighted avg       0.48      0.52      0.49     26708\n",
      "\n",
      "DecisionTree :               precision    recall  f1-score   support\n",
      "\n",
      "           0       0.83      0.85      0.84     10638\n",
      "           1       0.64      0.64      0.64      3764\n",
      "           2       0.25      0.23      0.24      3054\n",
      "           3       0.30      0.30      0.30      2963\n",
      "           4       0.25      0.24      0.24      2999\n",
      "           5       0.42      0.41      0.42      3290\n",
      "\n",
      "    accuracy                           0.57     26708\n",
      "   macro avg       0.45      0.45      0.45     26708\n",
      "weighted avg       0.56      0.57      0.56     26708\n",
      "\n",
      "RandomForest :               precision    recall  f1-score   support\n",
      "\n",
      "           0       0.82      0.91      0.86     10638\n",
      "           1       0.74      0.66      0.70      3764\n",
      "           2       0.26      0.21      0.23      3054\n",
      "           3       0.36      0.35      0.36      2963\n",
      "           4       0.28      0.27      0.27      2999\n",
      "           5       0.47      0.46      0.47      3290\n",
      "\n",
      "    accuracy                           0.60     26708\n",
      "   macro avg       0.49      0.48      0.48     26708\n",
      "weighted avg       0.59      0.60      0.59     26708\n",
      "\n",
      "BalancedBagging :               precision    recall  f1-score   support\n",
      "\n",
      "           0       0.88      0.82      0.85     10638\n",
      "           1       0.65      0.68      0.66      3764\n",
      "           2       0.24      0.27      0.26      3054\n",
      "           3       0.33      0.35      0.34      2963\n",
      "           4       0.27      0.26      0.27      2999\n",
      "           5       0.43      0.45      0.44      3290\n",
      "\n",
      "    accuracy                           0.58     26708\n",
      "   macro avg       0.47      0.47      0.47     26708\n",
      "weighted avg       0.59      0.58      0.58     26708\n",
      "\n"
     ]
    }
   ],
   "source": [
    "x = df.drop('LOS',axis=1)\n",
    "y = df['LOS']\n",
    "x_train,x_test,y_train,y_test = train_test_split(x,y,train_size=0.2,random_state=42)\n",
    "result(dataFrame=df,x_train=x_train,y_train=y_train,x_test=x_test,y_test=y_test)"
   ]
  },
  {
   "cell_type": "code",
   "execution_count": null,
   "metadata": {},
   "outputs": [],
   "source": []
  }
 ],
 "metadata": {
  "kernelspec": {
   "display_name": "Python 3",
   "language": "python",
   "name": "python3"
  },
  "language_info": {
   "codemirror_mode": {
    "name": "ipython",
    "version": 3
   },
   "file_extension": ".py",
   "mimetype": "text/x-python",
   "name": "python",
   "nbconvert_exporter": "python",
   "pygments_lexer": "ipython3",
   "version": "3.10.11"
  }
 },
 "nbformat": 4,
 "nbformat_minor": 2
}
